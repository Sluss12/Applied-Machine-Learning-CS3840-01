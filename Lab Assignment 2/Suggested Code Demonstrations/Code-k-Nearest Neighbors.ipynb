{
 "cells": [
  {
   "cell_type": "markdown",
   "id": "5c507a0c",
   "metadata": {},
   "source": [
    "# k-Nearest Neighbors for Classification"
   ]
  },
  {
   "cell_type": "code",
   "execution_count": 1,
   "id": "7455b0f4",
   "metadata": {},
   "outputs": [
    {
     "data": {
      "text/plain": [
       "['data', 'target', 'frame', 'feature_names', 'target_names', 'images', 'DESCR']"
      ]
     },
     "execution_count": 1,
     "metadata": {},
     "output_type": "execute_result"
    }
   ],
   "source": [
    "import numpy as np\n",
    "from sklearn import datasets\n",
    "\n",
    "digits = datasets.load_digits()\n",
    "list(digits.keys())"
   ]
  },
  {
   "cell_type": "code",
   "execution_count": 2,
   "id": "5219a4ff",
   "metadata": {},
   "outputs": [
    {
     "name": "stdout",
     "output_type": "stream",
     "text": [
      "[0 1 2 3 4 5 6 7 8 9]\n"
     ]
    }
   ],
   "source": [
    "print(digits.target_names)"
   ]
  },
  {
   "cell_type": "code",
   "execution_count": 3,
   "id": "7bdd31bb",
   "metadata": {},
   "outputs": [
    {
     "data": {
      "text/plain": [
       "array([[ 0.,  0.,  5., ...,  0.,  0.,  0.],\n",
       "       [ 0.,  0.,  0., ..., 10.,  0.,  0.],\n",
       "       [ 0.,  0.,  0., ..., 16.,  9.,  0.],\n",
       "       ...,\n",
       "       [ 0.,  0.,  1., ...,  6.,  0.,  0.],\n",
       "       [ 0.,  0.,  2., ..., 12.,  0.,  0.],\n",
       "       [ 0.,  0., 10., ..., 12.,  1.,  0.]])"
      ]
     },
     "execution_count": 3,
     "metadata": {},
     "output_type": "execute_result"
    }
   ],
   "source": [
    "digits[\"data\"]"
   ]
  },
  {
   "cell_type": "code",
   "execution_count": 4,
   "id": "cc600359",
   "metadata": {},
   "outputs": [
    {
     "name": "stdout",
     "output_type": "stream",
     "text": [
      "(1797, 64) (1797,)\n"
     ]
    }
   ],
   "source": [
    "X = digits[\"data\"]\n",
    "y = digits[\"target\"]\n",
    "print(X.shape, y.shape)"
   ]
  },
  {
   "cell_type": "markdown",
   "id": "e8d0ad6f",
   "metadata": {},
   "source": [
    "# Impact of k"
   ]
  },
  {
   "cell_type": "code",
   "execution_count": 7,
   "id": "886b4ac8",
   "metadata": {},
   "outputs": [
    {
     "name": "stdout",
     "output_type": "stream",
     "text": [
      "\n",
      "Accuracy: 0.98\n",
      "\n",
      "Micro Precision: 0.98\n",
      "Micro Recall: 0.98\n",
      "Micro F1-score: 0.98\n",
      "\n",
      "Macro Precision: 0.98\n",
      "Macro Recall: 0.98\n",
      "Macro F1-score: 0.98\n",
      "\n"
     ]
    }
   ],
   "source": [
    "from sklearn.neighbors import KNeighborsClassifier\n",
    "from sklearn.model_selection import train_test_split\n",
    "\n",
    "X_train, X_test, y_train, y_test = train_test_split(X, y, test_size=0.40)\n",
    "\n",
    "knn = KNeighborsClassifier(n_neighbors=5) # change number of neighbors k to 10, 100, 200, 500\n",
    "knn.fit(X_train, y_train)\n",
    "y_pred = knn.predict(X_test)\n",
    "\n",
    "from sklearn.metrics import accuracy_score, precision_score, recall_score, f1_score\n",
    "print('\\nAccuracy: {:.2f}\\n'.format(accuracy_score(y_test, y_pred)))\n",
    "\n",
    "print('Micro Precision: {:.2f}'.format(precision_score(y_test, y_pred, average='micro')))\n",
    "print('Micro Recall: {:.2f}'.format(recall_score(y_test, y_pred, average='micro')))\n",
    "print('Micro F1-score: {:.2f}\\n'.format(f1_score(y_test, y_pred, average='micro')))\n",
    "\n",
    "print('Macro Precision: {:.2f}'.format(precision_score(y_test, y_pred, average='macro')))\n",
    "print('Macro Recall: {:.2f}'.format(recall_score(y_test, y_pred, average='macro')))\n",
    "print('Macro F1-score: {:.2f}\\n'.format(f1_score(y_test, y_pred, average='macro')))"
   ]
  },
  {
   "cell_type": "markdown",
   "id": "4ede2abc",
   "metadata": {},
   "source": [
    "# Impact of Searching Algorithm"
   ]
  },
  {
   "cell_type": "code",
   "execution_count": 8,
   "id": "a713e001",
   "metadata": {},
   "outputs": [
    {
     "name": "stdout",
     "output_type": "stream",
     "text": [
      "\n",
      "Accuracy: 0.98\n",
      "\n",
      "Micro Precision: 0.98\n",
      "Micro Recall: 0.98\n",
      "Micro F1-score: 0.98\n",
      "\n",
      "Macro Precision: 0.98\n",
      "Macro Recall: 0.98\n",
      "Macro F1-score: 0.98\n",
      "\n",
      "Time: 0.06\n"
     ]
    }
   ],
   "source": [
    "import time\n",
    "\n",
    "time1 = time.time()\n",
    "knn = KNeighborsClassifier(n_neighbors=5, algorithm='brute') #brute, kd_tree,ball_tree\n",
    "knn.fit(X_train, y_train)\n",
    "y_pred = knn.predict(X_test)\n",
    "time2 = time.time()\n",
    "\n",
    "from sklearn.metrics import accuracy_score, precision_score, recall_score, f1_score\n",
    "print('\\nAccuracy: {:.2f}\\n'.format(accuracy_score(y_test, y_pred)))\n",
    "\n",
    "print('Micro Precision: {:.2f}'.format(precision_score(y_test, y_pred, average='micro')))\n",
    "print('Micro Recall: {:.2f}'.format(recall_score(y_test, y_pred, average='micro')))\n",
    "print('Micro F1-score: {:.2f}\\n'.format(f1_score(y_test, y_pred, average='micro')))\n",
    "\n",
    "print('Macro Precision: {:.2f}'.format(precision_score(y_test, y_pred, average='macro')))\n",
    "print('Macro Recall: {:.2f}'.format(recall_score(y_test, y_pred, average='macro')))\n",
    "print('Macro F1-score: {:.2f}\\n'.format(f1_score(y_test, y_pred, average='macro')))\n",
    "\n",
    "print('Time: {:.2f}'.format(time2-time1))"
   ]
  },
  {
   "cell_type": "markdown",
   "id": "33a61d16",
   "metadata": {},
   "source": [
    "# k-Nearest Neighbors for Regression"
   ]
  },
  {
   "cell_type": "code",
   "execution_count": 9,
   "id": "92d17326",
   "metadata": {},
   "outputs": [
    {
     "data": {
      "image/png": "[encoded data removed]",
      "text/plain": [
       "<Figure size 432x288 with 1 Axes>"
      ]
     },
     "metadata": {
      "needs_background": "light"
     },
     "output_type": "display_data"
    }
   ],
   "source": [
    "import numpy as np\n",
    "import matplotlib.pyplot as plt\n",
    "\n",
    "X = 2 * np.random.rand(100, 1) #X are 100 inputs with 1-dimensional feature randomly distributed in [0, 2)\n",
    "y = 3 * X + np.random.rand(100, 1) #y are true label values\n",
    "\n",
    "plt.plot(X, y, 'b.')\n",
    "plt.xlabel(\"X\", fontsize=18)\n",
    "plt.ylabel(\"y\", fontsize=14, rotation=0)\n",
    "plt.axis([0, 2, 0, 10])\n",
    "plt.show()"
   ]
  },
  {
   "cell_type": "code",
   "execution_count": 11,
   "id": "cbde6258",
   "metadata": {},
   "outputs": [
    {
     "data": {
      "text/plain": [
       "KNeighborsRegressor()"
      ]
     },
     "execution_count": 11,
     "metadata": {},
     "output_type": "execute_result"
    }
   ],
   "source": [
    "from sklearn.neighbors import KNeighborsRegressor\n",
    "\n",
    "LR_model = KNeighborsRegressor(n_neighbors=5)\n",
    "LR_model.fit(X, y)"
   ]
  },
  {
   "cell_type": "code",
   "execution_count": 12,
   "id": "74361b88",
   "metadata": {},
   "outputs": [
    {
     "data": {
      "image/png": "[encoded data removed]",
      "text/plain": [
       "<Figure size 432x288 with 1 Axes>"
      ]
     },
     "metadata": {
      "needs_background": "light"
     },
     "output_type": "display_data"
    }
   ],
   "source": [
    "plt.plot(X, y, \"b.\")\n",
    "plt.plot(X, LR_model.predict(X), \"r.\")\n",
    "plt.xlabel(\"X\", fontsize=18)\n",
    "plt.ylabel(\"y\", fontsize=14, rotation=0)\n",
    "plt.axis([0, 2, 0, 10])\n",
    "plt.show()"
   ]
  },
  {
   "cell_type": "code",
   "execution_count": 13,
   "id": "39328a89",
   "metadata": {},
   "outputs": [
    {
     "name": "stdout",
     "output_type": "stream",
     "text": [
      "Root Mean Square Error (RMSE): 0.219164183501499\n",
      "Mean Absolute Error (MAE): 0.1778200787377611\n"
     ]
    }
   ],
   "source": [
    "from sklearn.metrics import mean_squared_error\n",
    "from sklearn.metrics import mean_absolute_error\n",
    "\n",
    "#Root Mean Square Error (RMSE)\n",
    "mse = mean_squared_error(y, LR_model.predict(X))\n",
    "rmse = np.sqrt(mse)\n",
    "\n",
    "#Mean Absolute Error (MAE)\n",
    "mae = mean_absolute_error(y, LR_model.predict(X))\n",
    "\n",
    "print(\"Root Mean Square Error (RMSE):\", rmse)\n",
    "print(\"Mean Absolute Error (MAE):\", mae)"
   ]
  }
 ],
 "metadata": {
  "kernelspec": {
   "display_name": "Python 3",
   "language": "python",
   "name": "python3"
  },
  "language_info": {
   "codemirror_mode": {
    "name": "ipython",
    "version": 3
   },
   "file_extension": ".py",
   "mimetype": "text/x-python",
   "name": "python",
   "nbconvert_exporter": "python",
   "pygments_lexer": "ipython3",
   "version": "3.6.5"
  }
 },
 "nbformat": 4,
 "nbformat_minor": 5
}
