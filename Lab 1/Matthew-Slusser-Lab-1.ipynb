{
 "cells": [
  {
   "cell_type": "code",
   "execution_count": 5,
   "id": "63de94b9",
   "metadata": {},
   "outputs": [],
   "source": [
    "### CS 3840 Applied Machine Learning - Lab Assignment 1"
   ]
  },
  {
   "cell_type": "markdown",
   "id": "8c4815bb",
   "metadata": {},
   "source": [
    "# <center>End-to-End Machine Learning Pipeline: A Linear Regression Problem</center>"
   ]
  },
  {
   "cell_type": "markdown",
   "id": "0c83f978",
   "metadata": {},
   "source": [
    "### 1. Overview\n",
    "The learning objective of this lab assignment is for students to understand the end-to-end machine learning pipeline, including how to load the data from csv file to DataFrame, how to take a quick look at data structure and statistics, how to visualize the data to gain insights, how to deal with missing features and categorical features, and how to scale feature values. As we use diabetes data as an example, this lab assignment also includes how to build a linear regression model to predict the diabetes progression in one year, and how to evaluate the regression results."
   ]
  },
  {
   "cell_type": "markdown",
   "id": "8e31a324",
   "metadata": {},
   "source": [
    "#### Lecture notes and code demonstrations. \n",
    "Detailed coverage of these topics can be found in the following:\n",
    "<li>Lecture 2022-01-19-W-Terms and Principles of Machine Learning</li>\n",
    "<li>Lecture 2022-01-24-M-Model Training using Gradient Descent</li>\n",
    "<li>Code demonstration: Model Triaining using Gradient Descent.ipynb</li>\n",
    "<li>Lecture 2022-01-26-W-Feature Representation and Evaluation Metrics</li>\n",
    "<li>Code demonstration: Feature Representation and Evaluation Metrics.ipynb</li>"
   ]
  },
  {
   "cell_type": "markdown",
   "id": "97aaaf6f",
   "metadata": {},
   "source": [
    "### 2. Submission\n",
    "You need to submit a detailed lab report with code, running results, and answers to the questions. If you submit <font color='red'>a jupyter notebook (“Firstname-Lastname-Lab1.ipynd”)</font>, please fill in this file directly and place the code, running results, and answers in order for each question. If you submit <font color='red'>a PDF report (“Firstname-Lastname-Lab1.pdf”) with code file (“Firstname-Lastname-Lab1.py”)</font>, please include the screenshots (code and running results) with answers for each question in the report.  "
   ]
  },
  {
   "cell_type": "markdown",
   "id": "c9bad839",
   "metadata": {},
   "source": [
    "### 3. Questions (50 points)"
   ]
  },
  {
   "cell_type": "markdown",
   "id": "d4caf9fd",
   "metadata": {},
   "source": [
    "For this lab assignment, you will be using the `Diabetes dataset` to complete the following tasks and answer the questions. Diabetes dataset has different features and a target label. You will use these features to build a linear regression model to predict the diabetes disease progression one year. First, please place `diabetes.csv` and your notebook/python file in the same directory, and load the data into DataFrame.   "
   ]
  },
  {
   "cell_type": "code",
   "execution_count": 9,
   "id": "2476cbce",
   "metadata": {},
   "outputs": [],
   "source": [
    "import os\n",
    "import pandas as pd\n",
    "import numpy as np\n",
    "import matplotlib.pyplot as plt\n",
    "\n",
    "#Please place diabetes.csv and your notebook/python file in the same directory; otherwise, change DATA_PATH \n",
    "DATA_PATH = \"\"\n",
    "\n",
    "def load_diabetes_data(diabetes_path=DATA_PATH):\n",
    "    csv_path = os.path.join(diabetes_path, \"diabetes.csv\")\n",
    "    return pd.read_csv(csv_path)\n",
    "\n",
    "diabetes = load_diabetes_data()"
   ]
  },
  {
   "cell_type": "markdown",
   "id": "8195eebf",
   "metadata": {},
   "source": [
    "#### Question 1 (5 points):  \n",
    "Please print out the information/statistics of diabetes DataFrame in function `answer_one( )`, and describe: how many records does the diabetes dataset have? Except for the target label `diabetes_progression_one_year`, how many features does the diabetes dataset have? What are these features? Among these features, which feature is non-numerical (categorical) and which feature has missing values? "
   ]
  },
  {
   "cell_type": "code",
   "execution_count": 10,
   "id": "3df968f1",
   "metadata": {},
   "outputs": [
    {
     "name": "stdout",
     "output_type": "stream",
     "text": [
      "   age  gender   bmi  blood_pressure  total_serum_cholesterol  \\\n",
      "0   59  female  32.1           101.0                      157   \n",
      "1   48    male  21.6            87.0                      183   \n",
      "2   72  female  30.5            93.0                      156   \n",
      "3   24    male  25.3            84.0                      198   \n",
      "4   50    male  23.0           101.0                      192   \n",
      "\n",
      "   low_density_lipoproteins  high_density_lipoproteins  total_cholesterol  \\\n",
      "0                      93.2                       38.0                4.0   \n",
      "1                     103.2                       70.0                3.0   \n",
      "2                      93.6                       41.0                4.0   \n",
      "3                     131.4                       40.0                5.0   \n",
      "4                     125.4                       52.0                4.0   \n",
      "\n",
      "   serum_triglycerides_level  blood_sugar_level  diabetes_progression_one_year  \n",
      "0                     4.8598                 87                            151  \n",
      "1                     3.8918                 69                             75  \n",
      "2                     4.6728                 85                            141  \n",
      "3                     4.8903                 89                            206  \n",
      "4                     4.2905                 80                            135  \n"
     ]
    }
   ],
   "source": [
    "def answer_one():\n",
    "    #Please complete print() using data frame's info()\n",
    "    print(diabetes.head())\n",
    "\n",
    "#Run your function in the cell to return the result\n",
    "answer_one()"
   ]
  },
  {
   "cell_type": "markdown",
   "id": "b65e8956",
   "metadata": {},
   "source": [
    "#### Question 2 (5 points):  \n",
    "Please visualize the data by plotting a histogram for each numerical feature in function `answer_two( )`, and describe the observation on the data distribtuion for feature `total_cholesterol` and what all these feature scales look like. "
   ]
  },
  {
   "cell_type": "code",
   "execution_count": 8,
   "id": "6af83b0a",
   "metadata": {},
   "outputs": [
    {
     "ename": "SyntaxError",
     "evalue": "invalid syntax (462118146.py, line 3)",
     "output_type": "error",
     "traceback": [
      "\u001b[1;36m  Input \u001b[1;32mIn [8]\u001b[1;36m\u001b[0m\n\u001b[1;33m    diabetes.\u001b[0m\n\u001b[1;37m             ^\u001b[0m\n\u001b[1;31mSyntaxError\u001b[0m\u001b[1;31m:\u001b[0m invalid syntax\n"
     ]
    }
   ],
   "source": [
    "def answer_two():\n",
    "    #Please complete the function using data frame's hist() with bins=50, figsize=(20,15)\n",
    "    diabetes.\n",
    "    plt.show()\n",
    "\n",
    "#Run your function in the cell to return the result\n",
    "answer_two()"
   ]
  },
  {
   "cell_type": "markdown",
   "id": "90478fd6",
   "metadata": {},
   "source": [
    "#### Question 3 (5 points):  \n",
    "Please calculate feature correlation matrix and print out the feature correlation information for `diabetes_progression_one_year` in function `answer_three( )`, and describe: except for `diabetes_progression_one_year` itself, which feature has the strongest correlation with `diabetes_progression_one_year`, and which feature has the weakest correlation with `diabetes_progression_one_year`? Why?   "
   ]
  },
  {
   "cell_type": "code",
   "execution_count": null,
   "id": "b4ada448",
   "metadata": {},
   "outputs": [],
   "source": [
    "def answer_three():\n",
    "    #Please complete the function using data frame's corr()\n",
    "    corr_matrix = \n",
    "    print(corr_matrix[\"diabetes_progression_one_year\"].sort_values(ascending=False))\n",
    "\n",
    "#Run your function in the cell to return the result\n",
    "answer_three()"
   ]
  },
  {
   "cell_type": "markdown",
   "id": "66b6bffa",
   "metadata": {},
   "source": [
    "#### Question 4 (3 points):  \n",
    "From question 3, you can figure out the feature (<font color='red'>strongest_feature</font>) that has the strongest correlation with `diabetes_progression_one_year`, and the feature (<font color='red'>weakest_feature</font>) that has the weakest correlation with `diabetes_progression_one_year`. Please fill in feature name in the option `x=\" \"` of plot function in `answer_four( )` to plot the data distribution between the strongest/weakest feature and `diabetes_progression_one_year`.  "
   ]
  },
  {
   "cell_type": "code",
   "execution_count": null,
   "id": "69cd71dc",
   "metadata": {
    "scrolled": true
   },
   "outputs": [],
   "source": [
    "def answer_four():\n",
    "    #Please set option x=\" \" using the name of strongest_feature \n",
    "    diabetes.plot(kind=\"scatter\", x=\"  \", y=\"diabetes_progression_one_year\", alpha=0.3)\n",
    "    plt.axis([0, 45, 0, 360])\n",
    "    \n",
    "    #Please set option x=\" \" using the name of weakest_feature\n",
    "    diabetes.plot(kind=\"scatter\", x=\"  \", y=\"diabetes_progression_one_year\", alpha=0.3)\n",
    "    plt.axis([0, 250, 0, 360])\n",
    "    \n",
    "    plt.show()\n",
    "\n",
    "#Run your function in the cell to return the result\n",
    "answer_four()"
   ]
  },
  {
   "cell_type": "markdown",
   "id": "aa3eb0bc",
   "metadata": {},
   "source": [
    "#### Devide the DataFrame into features `diabetes_features` and labels `diabetes_labels`"
   ]
  },
  {
   "cell_type": "code",
   "execution_count": null,
   "id": "11c517f2",
   "metadata": {},
   "outputs": [],
   "source": [
    "diabetes_labels = diabetes[\"diabetes_progression_one_year\"].copy() # use diabete_progression_one_year as label\n",
    "diabetes_features = diabetes.drop(\"diabetes_progression_one_year\", axis=1) # drop diabete_progression_one_year"
   ]
  },
  {
   "cell_type": "markdown",
   "id": "e6289ac8",
   "metadata": {},
   "source": [
    "#### Question 5 (5 points):  \n",
    "As `total_cholesterol` has missing values, please use its <font color=red>media</font> number to set those missing feature values in function `answer_five( )`. After processing, please describe if there are still data records with NULL feature values by using the given code line.   "
   ]
  },
  {
   "cell_type": "code",
   "execution_count": null,
   "id": "fa36af87",
   "metadata": {},
   "outputs": [],
   "source": [
    "def answer_five():\n",
    "    #Please operate on diabetes_features to set the missing \"total_cholesterol\" values using media\n",
    "    median = diabetes_features[\"total_cholesterol\"].\n",
    "    diabetes_features[\"total_cholesterol\"].\n",
    "\n",
    "#Run your function in the cell to return the result\n",
    "answer_five()"
   ]
  },
  {
   "cell_type": "code",
   "execution_count": null,
   "id": "724f631e",
   "metadata": {},
   "outputs": [],
   "source": [
    "#Check if there are still records with null feature values\n",
    "#Empty DataFrame means no record with null feature values\n",
    "print(diabetes_features[diabetes_features.isnull().any(axis=1)].head())"
   ]
  },
  {
   "cell_type": "markdown",
   "id": "81e88a34",
   "metadata": {},
   "source": [
    "#### Devide features into numerical part `diabetes_num` and categorical part `diabetes_cat`"
   ]
  },
  {
   "cell_type": "code",
   "execution_count": null,
   "id": "ffdaa7bf",
   "metadata": {},
   "outputs": [],
   "source": [
    "#diabetes_num only includes the numerical features without gender\n",
    "diabetes_num = diabetes_features.drop(\"gender\", axis=1)\n",
    "\n",
    "#diabetes_cat only includes the categorical feature gender\n",
    "diabetes_cat = diabetes_features[[\"gender\"]]\n",
    "print(diabetes_cat[\"gender\"].value_counts())"
   ]
  },
  {
   "cell_type": "markdown",
   "id": "5a5819f4",
   "metadata": {},
   "source": [
    "#### Question 6 (5 points):\n",
    "As gender contains categories without order, please convert these categoties into numbers directly using `OrdinalEncoder` in function `answer_six( )`, and print out gender values after conversion."
   ]
  },
  {
   "cell_type": "code",
   "execution_count": null,
   "id": "6f45d54c",
   "metadata": {},
   "outputs": [],
   "source": [
    "from sklearn.preprocessing import OrdinalEncoder\n",
    "\n",
    "def answer_six():\n",
    "    ordinal_encoder = \n",
    "    #Please complete the code line using ordinal_encoder.fit_transform to operate on diabetes_cat\n",
    "    diabetes_cat_encoded = \n",
    "    \n",
    "    return diabetes_cat_encoded\n",
    "\n",
    "#Run your function in the cell to return the result\n",
    "diabetes_cat_encoded = answer_six()\n",
    "print(diabetes_cat_encoded)"
   ]
  },
  {
   "cell_type": "markdown",
   "id": "feb59041",
   "metadata": {},
   "source": [
    "#### Question 7 (5 points):\n",
    "As numerical features have very different scales, please get all the features to have the same scale using `StandardScaler` in function `answer_seven( )`, and print out feature values after scaling."
   ]
  },
  {
   "cell_type": "code",
   "execution_count": null,
   "id": "9cfe63c4",
   "metadata": {},
   "outputs": [],
   "source": [
    "from sklearn.preprocessing import StandardScaler\n",
    "\n",
    "def answer_seven():\n",
    "    std_scaler = \n",
    "    #Please complete the code line using std_scaler.fit_transform to operate on diabetes_num\n",
    "    diabetes_num_scaled = \n",
    "    \n",
    "    return diabetes_num_scaled\n",
    "\n",
    "#Run your function in the cell to return the result\n",
    "diabetes_num_scaled = answer_seven()\n",
    "print(diabetes_num_scaled)"
   ]
  },
  {
   "cell_type": "markdown",
   "id": "70ea700b",
   "metadata": {},
   "source": [
    "#### Concatenate `diabetes_num_scaled` and `diabetes_cat_encoded` into the final features `X` "
   ]
  },
  {
   "cell_type": "code",
   "execution_count": null,
   "id": "f4294a3f",
   "metadata": {},
   "outputs": [],
   "source": [
    "#Diabetes features\n",
    "X = np.concatenate((diabetes_num_scaled, diabetes_cat_encoded), axis=1)\n",
    "\n",
    "#Diabetes labels\n",
    "y = diabetes_labels.to_numpy()\n",
    "\n",
    "print(X.shape)\n",
    "print(y.shape)"
   ]
  },
  {
   "cell_type": "markdown",
   "id": "594a2577",
   "metadata": {},
   "source": [
    "#### Question 8 (5 points):\n",
    "Please use `train_test_split` to split `X` and `y` into training and test sets `(X_train, X_test, y_train, and y_test)` in function `answer_eight()`, and describe what shape `X_train`, `X_test`, `y_train`, and `y_test` have, respectively? \n",
    "\n",
    "**Set `random_state=42` and `test_size=0.2` in `train_test_split` to make sure 80% of your dataset is used for training and 20% for testing**"
   ]
  },
  {
   "cell_type": "code",
   "execution_count": null,
   "id": "15a6edca",
   "metadata": {},
   "outputs": [],
   "source": [
    "from sklearn.model_selection import train_test_split\n",
    "\n",
    "def answer_eight():\n",
    "    #Please complete the code line using train_test_split\n",
    "    X_train, X_test, y_train, y_test = \n",
    "    \n",
    "    return X_train, X_test, y_train, y_test\n",
    "\n",
    "#Run your function in the cell to return the result\n",
    "X_train, X_test, y_train, y_test = answer_eight()\n",
    "\n",
    "#Print out the shapes of X_train, X_test, y_train, y_test \n",
    "print(X_train.shape)\n",
    "print(X_test.shape)\n",
    "print(y_train.shape)\n",
    "print(y_test.shape)"
   ]
  },
  {
   "cell_type": "markdown",
   "id": "9be14f50",
   "metadata": {},
   "source": [
    "#### Question 9 (5 points):\n",
    "Please use `LinearRegression` to build a linear regression model with `X_train` and `y_train` in function `answer_nine( )`."
   ]
  },
  {
   "cell_type": "code",
   "execution_count": null,
   "id": "d67da7d9",
   "metadata": {},
   "outputs": [],
   "source": [
    "from sklearn.linear_model import LinearRegression\n",
    "\n",
    "def answer_nine():\n",
    "    #Please create the model using LinearRegression\n",
    "    lin_reg = \n",
    "    \n",
    "    #Please train the model using fit() with X_train and y_train\n",
    "    lin_reg.\n",
    "    \n",
    "    return lin_reg\n",
    "\n",
    "#Run your function in the cell to return the result\n",
    "lin_reg = answer_nine()"
   ]
  },
  {
   "cell_type": "markdown",
   "id": "5d809ea3",
   "metadata": {},
   "source": [
    "#### Question 10 (5 points):\n",
    "Please evaluate the linear regression model by calculating root mean square error (RMSE) and mean absolute error (MAE) between the true labels `y_test` and predictions `y_predict` in function `answer_ten( )`, and describe the results of RMSE and MAE."
   ]
  },
  {
   "cell_type": "code",
   "execution_count": null,
   "id": "03ec2cf2",
   "metadata": {},
   "outputs": [],
   "source": [
    "from sklearn.metrics import mean_squared_error\n",
    "from sklearn.metrics import mean_absolute_error\n",
    "\n",
    "y_predict = lin_reg.predict(X_test)\n",
    "\n",
    "def answer_ten():\n",
    "    #Please get mean square error using mean_squared_error with y_test and y_predict \n",
    "    mse = \n",
    "    rmse = np.sqrt(mse)\n",
    "    \n",
    "    #Please get mean absolute error using mean_absolute_error with y_test and y_predict\n",
    "    mae = \n",
    "    \n",
    "    return rmse, mae\n",
    "\n",
    "#Run your function in the cell to return the result\n",
    "rmse, mae = answer_ten()\n",
    "\n",
    "print(\"Root Mean Square Error (RMSE):\", rmse)\n",
    "print(\"Mean Absolute Error (MAE):\", mae)"
   ]
  },
  {
   "cell_type": "markdown",
   "id": "1557cc88",
   "metadata": {},
   "source": [
    "#### Question 11 (2 points):\n",
    "Please use the following given code to plot the true labels `y_test` (blue) and predictions `y_predict` (red), and according to RMSE, MAE, and the plot, describe if your linear regression model trained on `X_train` and `y_train` makes good predictions."
   ]
  },
  {
   "cell_type": "code",
   "execution_count": null,
   "id": "de42e590",
   "metadata": {},
   "outputs": [],
   "source": [
    "indices = np.arange(1, 90)\n",
    "plt.plot(indices, y_test, \"b-\")\n",
    "plt.plot(indices, y_predict, \"r-\")\n",
    "plt.xlabel(\"Index of test example\", fontsize=14)\n",
    "plt.ylabel(\"y\", fontsize=14, rotation=0)\n",
    "plt.axis([0, 90, 0, 360])\n",
    "plt.show()"
   ]
  }
 ],
 "metadata": {
  "kernelspec": {
   "display_name": "Python 3 (ipykernel)",
   "language": "python",
   "name": "python3"
  },
  "language_info": {
   "codemirror_mode": {
    "name": "ipython",
    "version": 3
   },
   "file_extension": ".py",
   "mimetype": "text/x-python",
   "name": "python",
   "nbconvert_exporter": "python",
   "pygments_lexer": "ipython3",
   "version": "3.9.10"
  }
 },
 "nbformat": 4,
 "nbformat_minor": 5
}
