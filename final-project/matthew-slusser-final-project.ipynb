{
 "cells": [
  {
   "cell_type": "markdown",
   "metadata": {},
   "source": [
    "# Final Project\n",
    "\n",
    "## Breast Cancer Detection\n",
    "\n",
    "[Applied Machine Learning CS-3840](https://pilot.wright.edu/d2l/lms/dropbox/user/folder_submit_files.d2l?ou=624767&db=358827)\n",
    "\n",
    "[Matthew Slusser](https://github.com/Sluss12/Applied-Machine-Learning-CS3840-01/tree/master/final-project)\n",
    "\n",
    "---\n"
   ]
  },
  {
   "cell_type": "markdown",
   "metadata": {},
   "source": [
    "## Data Set:\n",
    "[Breast Cancer Prediction Dataset](https://www.kaggle.com/datasets/merishnasuwal/breast-cancer-prediction-dataset)\n",
    "\n",
    "The dataset is obtained from: "
   ]
  },
  {
   "cell_type": "code",
   "execution_count": null,
   "metadata": {},
   "outputs": [],
   "source": [
    "import os\n",
    "import pandas as pd\n",
    "import numpy as np\n",
    "import matplotlib.pyplot as plt\n",
    "from sklearn.preprocessing import StandardScaler\n",
    "from sklearn.model_selection import train_test_split\n",
    "\n",
    "#Please place breast_cancer_data.csv and your notebook/python file in the same directory; otherwise, change DATA_PATH \n",
    "DATA_PATH = \"\"\n",
    "\n",
    "def load_breast_cancer_data(breast_cancer_data_path=DATA_PATH):\n",
    "    csv_path = os.path.join(breast_cancer_data_path, \"breast_cancer_data.csv\")\n",
    "    return pd.read_csv(csv_path)\n",
    "\n",
    "breast_cancer_data = load_breast_cancer_data()"
   ]
  }
 ],
 "metadata": {
  "interpreter": {
   "hash": "dc9fae5ca04577fb04d004c4d96da80b68f98688dd89ac712e2045f2b27d3709"
  },
  "kernelspec": {
   "display_name": "Python 3.9.12 64-bit (windows store)",
   "language": "python",
   "name": "python3"
  },
  "language_info": {
   "codemirror_mode": {
    "name": "ipython",
    "version": 3
   },
   "file_extension": ".py",
   "mimetype": "text/x-python",
   "name": "python",
   "nbconvert_exporter": "python",
   "pygments_lexer": "ipython3",
   "version": "3.9.12"
  },
  "orig_nbformat": 4
 },
 "nbformat": 4,
 "nbformat_minor": 2
}
