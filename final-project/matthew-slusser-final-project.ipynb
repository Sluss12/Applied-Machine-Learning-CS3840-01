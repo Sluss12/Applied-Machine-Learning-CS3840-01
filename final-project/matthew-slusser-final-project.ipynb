{
 "cells": [
  {
   "cell_type": "markdown",
   "metadata": {},
   "source": [
    "# Final Project\n",
    "\n",
    "## Breast Cancer Detection\n",
    "\n",
    "[Applied Machine Learning CS-3840](https://pilot.wright.edu/d2l/lms/dropbox/user/folder_submit_files.d2l?ou=624767&db=358827)\n",
    "\n",
    "[Matthew Slusser](https://github.com/Sluss12/Applied-Machine-Learning-CS3840-01/tree/master/final-project)\n",
    "\n",
    "---\n"
   ]
  },
  {
   "cell_type": "markdown",
   "metadata": {},
   "source": [
    "## Data Set:\n",
    "[Breast Cancer Prediction Dataset]()\n",
    "\n",
    "The dataset is obtained from: "
   ]
  },
  {
   "cell_type": "code",
   "execution_count": null,
   "metadata": {},
   "outputs": [],
   "source": []
  },
  {
   "cell_type": "code",
   "execution_count": null,
   "metadata": {},
   "outputs": [],
   "source": []
  }
 ],
 "metadata": {
  "interpreter": {
   "hash": "dc9fae5ca04577fb04d004c4d96da80b68f98688dd89ac712e2045f2b27d3709"
  },
  "kernelspec": {
   "display_name": "Python 3.9.12 64-bit (windows store)",
   "language": "python",
   "name": "python3"
  },
  "language_info": {
   "name": "python",
   "version": "3.9.12"
  },
  "orig_nbformat": 4
 },
 "nbformat": 4,
 "nbformat_minor": 2
}
